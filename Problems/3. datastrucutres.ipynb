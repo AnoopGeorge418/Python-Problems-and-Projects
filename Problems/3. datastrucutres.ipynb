{
 "cells": [
  {
   "cell_type": "markdown",
   "metadata": {},
   "source": [
    "### Assignment 1: Creating and Accessing Lists\n",
    "Create a list of the first 20 positive integers. Print the list."
   ]
  },
  {
   "cell_type": "code",
   "execution_count": 2,
   "id": "8668b441",
   "metadata": {},
   "outputs": [
    {
     "name": "stdout",
     "output_type": "stream",
     "text": [
      "[1, 2, 3, 4, 5, 6, 7, 8, 9, 10]\n"
     ]
    }
   ],
   "source": [
    "positiveNumbers = [1, 2, 3, 4, 5, 6, 7, 8, 9, 10]\n",
    "print(positiveNumbers)"
   ]
  },
  {
   "cell_type": "markdown",
   "id": "f715b5d9",
   "metadata": {},
   "source": [
    "### Assignment 2: Accessing List Elements\n",
    "Print the first, middle, and last elements of the list created in Assignment 1."
   ]
  },
  {
   "cell_type": "code",
   "execution_count": 3,
   "id": "3a143f3d",
   "metadata": {},
   "outputs": [
    {
     "name": "stdout",
     "output_type": "stream",
     "text": [
      "1\n",
      "6\n",
      "10\n"
     ]
    }
   ],
   "source": [
    "print(positiveNumbers[0])\n",
    "print(positiveNumbers[5])\n",
    "print(positiveNumbers[-1])"
   ]
  },
  {
   "cell_type": "markdown",
   "id": "a02704c3",
   "metadata": {},
   "source": [
    "### Assignment 3: List Slicing\n",
    "Print the first five elements, the last five elements, and the elements from index 5 to 15 of the list created in Assignment 1."
   ]
  },
  {
   "cell_type": "code",
   "execution_count": 9,
   "id": "6721e14e",
   "metadata": {},
   "outputs": [
    {
     "name": "stdout",
     "output_type": "stream",
     "text": [
      "[1, 2, 3, 4, 5]\n",
      "[6, 7, 8, 9, 10]\n",
      "[6, 7, 8, 9, 10]\n"
     ]
    }
   ],
   "source": [
    "print(positiveNumbers[:5])\n",
    "print(positiveNumbers[-5:])\n",
    "print(positiveNumbers[5:15])"
   ]
  },
  {
   "cell_type": "markdown",
   "id": "af554ac3",
   "metadata": {},
   "source": [
    "### Assignment 4: List Comprehensions\n",
    "Create a new list containing the squares of the first 10 positive integers using a list comprehension. Print the new list."
   ]
  },
  {
   "cell_type": "code",
   "execution_count": 12,
   "id": "c9776135",
   "metadata": {},
   "outputs": [
    {
     "name": "stdout",
     "output_type": "stream",
     "text": [
      "[1, 4, 9, 16, 25, 36, 49, 64, 81, 100]\n"
     ]
    }
   ],
   "source": [
    "sqaure = [square ** 2 for square in range(1, 11)]\n",
    "print(sqaure)"
   ]
  },
  {
   "cell_type": "markdown",
   "id": "c39774c1",
   "metadata": {},
   "source": [
    "### Assignment 5: Filtering Lists\n",
    "Create a new list containing only the even numbers from the list created in Assignment 1 using a list comprehension. Print the new list."
   ]
  },
  {
   "cell_type": "code",
   "execution_count": 20,
   "id": "8f0aa004",
   "metadata": {},
   "outputs": [
    {
     "name": "stdout",
     "output_type": "stream",
     "text": [
      "[4, 16, 36, 64, 100]\n"
     ]
    }
   ],
   "source": [
    "def even(num):\n",
    "    return num % 2 == 0\n",
    "\n",
    "even_numbers = filter(even, sqaure)\n",
    "print(list(even_numbers))"
   ]
  },
  {
   "cell_type": "markdown",
   "id": "5307afdc",
   "metadata": {},
   "source": [
    "### Assignment 6: List Methods\n",
    "Create a list of random numbers and sort it in ascending and descending order. Remove the duplicates from the list and print the modified list."
   ]
  },
  {
   "cell_type": "code",
   "execution_count": 27,
   "id": "c11bbc57",
   "metadata": {},
   "outputs": [
    {
     "name": "stdout",
     "output_type": "stream",
     "text": [
      "Ascending Order (No Duplicates): [1, 2, 3, 4, 5, 6, 7, 8, 67, 78, 89, 90, 98, 122, 343, 345]\n",
      "Descending Order (No Duplicates): [345, 343, 122, 98, 90, 89, 78, 67, 8, 7, 6, 5, 4, 3, 2, 1]\n"
     ]
    }
   ],
   "source": [
    "random_numbers = [1, 3, 2, 4, 3, 5, 7, 6, 8, 122, 98, 345, 90, 2, 1, 2, 343, 67, 78, 98, 89]\n",
    "\n",
    "unique_numbers = list(set(random_numbers))\n",
    "unique_numbers.sort()\n",
    "print(f\"Ascending Order (No Duplicates): {unique_numbers}\")\n",
    "\n",
    "descending_numbers = sorted(unique_numbers, reverse=True)\n",
    "print(f\"Descending Order (No Duplicates): {descending_numbers}\")"
   ]
  },
  {
   "cell_type": "markdown",
   "id": "0cd3b8ea",
   "metadata": {},
   "source": [
    "### Assignment 7: Nested Lists\n",
    "Create a nested list representing a 3x3 matrix and print the matrix. Access and print the element at the second row and third column."
   ]
  },
  {
   "cell_type": "code",
   "execution_count": 39,
   "id": "97d7e765",
   "metadata": {},
   "outputs": [
    {
     "name": "stdout",
     "output_type": "stream",
     "text": [
      "Matrix:\n",
      "[1, 2, 3]\n",
      "[4, 5, 6]\n",
      "[7, 8, 9]\n",
      "\n",
      "Element at 2nd row, 3rd column: 6\n"
     ]
    }
   ],
   "source": [
    "matrix = [\n",
    "    [1, 2, 3], \n",
    "    [4, 5, 6],\n",
    "    [7, 8, 9],\n",
    "]\n",
    "\n",
    "print(\"Matrix:\")\n",
    "for row in matrix:\n",
    "    print(row)\n",
    "    \n",
    "element = matrix[1][2]\n",
    "print(f\"\\nElement at 2nd row, 3rd column: {element}\")"
   ]
  },
  {
   "cell_type": "markdown",
   "id": "826a98ea",
   "metadata": {},
   "source": [
    "### Assignment 8: List of Dictionaries\n",
    "Create a list of dictionaries where each dictionary represents a student with keys 'name' and 'score'. Sort the list of dictionaries by the 'score' in descending order and print the sorted list."
   ]
  },
  {
   "cell_type": "code",
   "execution_count": 44,
   "metadata": {},
   "outputs": [
    {
     "name": "stdout",
     "output_type": "stream",
     "text": [
      "Sorted Students by Score (High to Low):\n",
      "Zorro - 1000\n",
      "Sanji - 100\n",
      "Jimbei - 100\n",
      "Luffy - 95\n"
     ]
    }
   ],
   "source": [
    "student_data = [\n",
    "    {'name': 'Luffy', 'score': 95},\n",
    "    {'name': 'Zorro', 'score': 1000},\n",
    "    {'name': 'Sanji', 'score': 100},\n",
    "    {'name': 'Jimbei', 'score': 100}\n",
    "]\n",
    "\n",
    "sorted_data = sorted(student_data, key = lambda x: x['score'], reverse=True)\n",
    "\n",
    "print(\"Sorted Students by Score (High to Low):\")\n",
    "for student in sorted_data:\n",
    "    print(f\"{student['name']} - {student['score']}\")"
   ]
  },
  {
   "cell_type": "markdown",
   "id": "3d5d1642",
   "metadata": {},
   "source": [
    "### Assignment 9: Matrix Transposition\n",
    "Write a function that takes a 3x3 matrix (nested list) as input and returns its transpose. Print the original and transposed matrices."
   ]
  },
  {
   "cell_type": "code",
   "execution_count": 45,
   "id": "ac8a4e39",
   "metadata": {},
   "outputs": [
    {
     "name": "stdout",
     "output_type": "stream",
     "text": [
      "Original Matrix:\n",
      "[1, 2, 3]\n",
      "[4, 5, 6]\n",
      "[7, 8, 9]\n",
      "\n",
      "Transposed Matrix:\n",
      "[1, 4, 7]\n",
      "[2, 5, 8]\n",
      "[3, 6, 9]\n"
     ]
    }
   ],
   "source": [
    "def transpose_matrix(matrix):\n",
    "    # Transpose using list comprehension\n",
    "    transposed = [[matrix[j][i] for j in range(3)] for i in range(3)]\n",
    "    return transposed\n",
    "\n",
    "# Original 3x3 matrix\n",
    "original_matrix = [\n",
    "    [1, 2, 3],\n",
    "    [4, 5, 6],\n",
    "    [7, 8, 9]\n",
    "]\n",
    "\n",
    "# Get the transposed matrix\n",
    "transposed_matrix = transpose_matrix(original_matrix)\n",
    "\n",
    "# Print both\n",
    "print(\"Original Matrix:\")\n",
    "for row in original_matrix:\n",
    "    print(row)\n",
    "\n",
    "print(\"\\nTransposed Matrix:\")\n",
    "for row in transposed_matrix:\n",
    "    print(row)\n"
   ]
  }
 ],
 "metadata": {
  "kernelspec": {
   "display_name": "base",
   "language": "python",
   "name": "python3"
  },
  "language_info": {
   "codemirror_mode": {
    "name": "ipython",
    "version": 3
   },
   "file_extension": ".py",
   "mimetype": "text/x-python",
   "name": "python",
   "nbconvert_exporter": "python",
   "pygments_lexer": "ipython3",
   "version": "3.12.7"
  }
 },
 "nbformat": 4,
 "nbformat_minor": 5
}
