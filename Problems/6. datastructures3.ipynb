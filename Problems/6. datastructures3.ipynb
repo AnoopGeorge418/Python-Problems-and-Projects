{
 "cells": [
  {
   "cell_type": "markdown",
   "metadata": {},
   "source": [
    "### Assignment 1: Creating and Accessing Sets\n",
    "Create a set with the first 10 positive integers. Print the set."
   ]
  },
  {
   "cell_type": "code",
   "execution_count": null,
   "metadata": {},
   "outputs": [],
   "source": []
  },
  {
   "cell_type": "markdown",
   "id": "e596ce10",
   "metadata": {},
   "source": [
    "### Assignment 2: Adding and Removing Elements\n",
    "Add the number 11 to the set created in Assignment 1. Then remove the number 1 from the set. Print the modified set."
   ]
  },
  {
   "cell_type": "code",
   "execution_count": null,
   "id": "268f5677",
   "metadata": {},
   "outputs": [],
   "source": []
  },
  {
   "cell_type": "markdown",
   "id": "19b528b1",
   "metadata": {},
   "source": [
    "### Assignment 3: Set Operations\n",
    "Create two sets: one with the first 5 positive integers and another with the first 5 even integers. Perform and print the results of union, intersection, difference, and symmetric difference operations on these sets."
   ]
  },
  {
   "cell_type": "code",
   "execution_count": null,
   "id": "67c14e93",
   "metadata": {},
   "outputs": [],
   "source": []
  },
  {
   "cell_type": "markdown",
   "id": "f833740c",
   "metadata": {},
   "source": [
    "### Assignment 4: Set Comprehensions\n",
    "Create a new set containing the squares of the first 10 positive integers using a set comprehension. Print the new set."
   ]
  },
  {
   "cell_type": "code",
   "execution_count": null,
   "id": "ce2c1a63",
   "metadata": {},
   "outputs": [],
   "source": []
  },
  {
   "cell_type": "markdown",
   "id": "bd2ac0a0",
   "metadata": {},
   "source": [
    "### Assignment 5: Filtering Sets\n",
    "Create a new set containing only the even numbers from the set created in Assignment 1 using a set comprehension. Print the new set."
   ]
  },
  {
   "cell_type": "code",
   "execution_count": null,
   "id": "04111df7",
   "metadata": {},
   "outputs": [],
   "source": []
  },
  {
   "cell_type": "markdown",
   "id": "58a8bc73",
   "metadata": {},
   "source": [
    "### Assignment 6: Set Methods\n",
    "Create a set with duplicate elements and remove the duplicates using set methods. Print the modified set."
   ]
  },
  {
   "cell_type": "code",
   "execution_count": null,
   "id": "5b3f8d96",
   "metadata": {},
   "outputs": [],
   "source": []
  },
  {
   "cell_type": "markdown",
   "id": "c2e14ead",
   "metadata": {},
   "source": [
    "### Assignment 7: Subsets and Supersets\n",
    "Create two sets: one with the first 5 positive integers and another with the first 3 positive integers. Check if the second set is a subset of the first set and if the first set is a superset of the second set. Print the results."
   ]
  },
  {
   "cell_type": "code",
   "execution_count": null,
   "id": "c1efb8bf",
   "metadata": {},
   "outputs": [],
   "source": []
  },
  {
   "cell_type": "markdown",
   "id": "994531d4",
   "metadata": {},
   "source": [
    "### Assignment 8: Frozenset\n",
    "Create a frozenset with the first 5 positive integers. Print the frozenset."
   ]
  },
  {
   "cell_type": "code",
   "execution_count": null,
   "id": "9d41c738",
   "metadata": {},
   "outputs": [],
   "source": []
  },
  {
   "cell_type": "markdown",
   "id": "f9d7ee33",
   "metadata": {},
   "source": [
    "### Assignment 9: Set and List Conversion\n",
    "Create a set with the first 5 positive integers. Convert it to a list, append the number 6, and convert it back to a set. Print the resulting set."
   ]
  },
  {
   "cell_type": "code",
   "execution_count": null,
   "id": "7a5382a9",
   "metadata": {},
   "outputs": [],
   "source": []
  },
  {
   "cell_type": "markdown",
   "id": "a29aaa12",
   "metadata": {},
   "source": [
    "### Assignment 10: Set and Dictionary\n",
    "Create a dictionary with set keys and integer values. Print the dictionary."
   ]
  },
  {
   "cell_type": "code",
   "execution_count": null,
   "id": "6532e74d",
   "metadata": {},
   "outputs": [],
   "source": []
  },
  {
   "cell_type": "markdown",
   "id": "0a63eaf4",
   "metadata": {},
   "source": [
    "### Assignment 11: Iterating Over Sets\n",
    "Create a set and iterate over the elements, printing each element."
   ]
  },
  {
   "cell_type": "code",
   "execution_count": null,
   "id": "b6fc9963",
   "metadata": {},
   "outputs": [],
   "source": []
  },
  {
   "cell_type": "markdown",
   "id": "d1a78e30",
   "metadata": {},
   "source": [
    "### Assignment 12: Removing Elements from Sets\n",
    "Create a set and remove elements from it until it is empty. Print the set after each removal."
   ]
  },
  {
   "cell_type": "code",
   "execution_count": null,
   "id": "aaf4347b",
   "metadata": {},
   "outputs": [],
   "source": []
  },
  {
   "cell_type": "markdown",
   "id": "c13c891f",
   "metadata": {},
   "source": [
    "### Assignment 13: Set Symmetric Difference Update\n",
    "Create two sets and update the first set with the symmetric difference of the two sets. Print the modified first set."
   ]
  },
  {
   "cell_type": "code",
   "execution_count": null,
   "id": "03ea2234",
   "metadata": {},
   "outputs": [],
   "source": []
  },
  {
   "cell_type": "markdown",
   "id": "9138cbee",
   "metadata": {},
   "source": [
    "### Assignment 14: Set Membership Testing\n",
    "Create a set and test if certain elements are present in the set. Print the results."
   ]
  },
  {
   "cell_type": "code",
   "execution_count": null,
   "id": "3d2a2d85",
   "metadata": {},
   "outputs": [],
   "source": []
  },
  {
   "cell_type": "markdown",
   "id": "d2938576",
   "metadata": {},
   "source": [
    "### Assignment 15: Set of Tuples\n",
    "Create a set containing tuples, where each tuple contains two elements. Print the set."
   ]
  },
  {
   "cell_type": "code",
   "execution_count": null,
   "id": "7dead36d",
   "metadata": {},
   "outputs": [],
   "source": []
  }
 ],
 "metadata": {
  "kernelspec": {
   "display_name": "Python 3",
   "language": "python",
   "name": "python3"
  },
  "language_info": {
   "codemirror_mode": {
    "name": "ipython",
    "version": 3
   },
   "file_extension": ".py",
   "mimetype": "text/x-python",
   "name": "python",
   "nbconvert_exporter": "python",
   "pygments_lexer": "ipython3",
   "version": "3.9.7"
  }
 },
 "nbformat": 4,
 "nbformat_minor": 5
}
